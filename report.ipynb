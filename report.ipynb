{
 "cells": [
  {
   "cell_type": "markdown",
   "metadata": {},
   "source": [
    "## 数据采集及处理\n",
    "\n",
    "我们尝试重建了两个不同的物件：\n",
    "\n",
    "- 宇航员小摆件（9张照片）\n",
    "\n",
    "<img width=300 src=\"./data/nerf_llff_data/astronaut/images_4/image000.png\"></img>\n",
    "\n",
    "以及\n",
    "\n",
    "- 乐高小汽车（23张照片）\n",
    "\n",
    "<img width=300 src=\"./data/nerf_llff_data/lego_car_dense/images_4/image000.png\"></img>\n",
    "\n",
    "使用[COLMAP](https://github.com/colmap/colmap)提供的GUI软件进行自动进行（sparse以及dense）点云重建：\n",
    "\n",
    "![](https://www.researchgate.net/publication/334216535/figure/fig4/AS:776772824096769@1562208481429/A-sample-of-typical-workflow-offered-by-COLMAP-GUI.png)\n",
    "\n",
    "可以得到：\n",
    "```\n",
    "cameras.bin\n",
    "images.bin\n",
    "points3D.bin\n",
    "```\n",
    "这三个二进制文件。\n",
    "\n",
    "然后使用`gen_poses.py`把点云数据转换成llff的格式。\n",
    "\n",
    "数据转换、模型训练、模型测试的过程都写在脚本`main.sh`当中。\n",
    "\n",
    "## 训练过程\n",
    "\n",
    "训练过程中的loss和PSNR指标可视化（由`plot.py`绘制，训练日志见`nohup.out`文件）如下：\n",
    "\n",
    "![](nerf.png)\n",
    "\n",
    "## 渲染结果\n",
    "\n",
    "渲染出了两个视频。选取了几帧如下：\n",
    "\n",
    "\n",
    "- 宇航员小摆件：效果很差，一方面可能是因为拍摄的过程中移动了物体。另外一方面可能睡因为训练数据很少。\n",
    "\n",
    "![](logs/astronaut/renderonly_path_199999/001.png)\n",
    "![](logs/astronaut/renderonly_path_199999/007.png)\n",
    "![](logs/astronaut/renderonly_path_199999/010.png)\n",
    "\n",
    "- 乐高小汽车：效果还可以，吸取了上次的教训我们这次没有移动物体，并且加大了训练数据量。还选取了和桌子对比度更高的黑色小汽车。\n",
    "\n",
    "![](logs/lego_car_dense/renderonly_path_199999/010.png)\n",
    "![](logs/lego_car_dense/renderonly_path_199999/050.png)\n",
    "![](logs/lego_car_dense/renderonly_path_199999/112.png)\n",
    "\n"
   ]
  },
  {
   "cell_type": "markdown",
   "metadata": {},
   "source": []
  }
 ],
 "metadata": {
  "kernelspec": {
   "display_name": "nerf",
   "language": "python",
   "name": "python3"
  },
  "language_info": {
   "name": "python",
   "version": "3.10.14"
  }
 },
 "nbformat": 4,
 "nbformat_minor": 2
}
